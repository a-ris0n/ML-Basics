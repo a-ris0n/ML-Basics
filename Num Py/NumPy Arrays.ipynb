{
 "cells": [
  {
   "cell_type": "markdown",
   "id": "b8398818",
   "metadata": {},
   "source": [
    "# Num Py"
   ]
  },
  {
   "cell_type": "code",
   "execution_count": 1,
   "id": "a4cd04d5",
   "metadata": {},
   "outputs": [],
   "source": [
    "import numpy as np"
   ]
  },
  {
   "cell_type": "code",
   "execution_count": 2,
   "id": "55c382dc",
   "metadata": {},
   "outputs": [
    {
     "ename": "ModuleNotFoundError",
     "evalue": "No module named 'jupyterthemes'",
     "output_type": "error",
     "traceback": [
      "\u001b[0;31m---------------------------------------------------------------------------\u001b[0m",
      "\u001b[0;31mModuleNotFoundError\u001b[0m                       Traceback (most recent call last)",
      "Input \u001b[0;32mIn [2]\u001b[0m, in \u001b[0;36m<cell line: 1>\u001b[0;34m()\u001b[0m\n\u001b[0;32m----> 1\u001b[0m \u001b[38;5;28;01mimport\u001b[39;00m \u001b[38;5;21;01mjupyterthemes\u001b[39;00m\n",
      "\u001b[0;31mModuleNotFoundError\u001b[0m: No module named 'jupyterthemes'"
     ]
    }
   ],
   "source": [
    "import jupyterthemes"
   ]
  },
  {
   "cell_type": "code",
   "execution_count": null,
   "id": "3106b574",
   "metadata": {},
   "outputs": [],
   "source": [
    "mylist = [1,2,3,4]"
   ]
  },
  {
   "cell_type": "code",
   "execution_count": null,
   "id": "ae7dc800",
   "metadata": {},
   "outputs": [],
   "source": [
    "type(mylist)"
   ]
  },
  {
   "cell_type": "code",
   "execution_count": null,
   "id": "e7f8782f",
   "metadata": {},
   "outputs": [],
   "source": [
    "np.array(mylist)"
   ]
  },
  {
   "cell_type": "code",
   "execution_count": null,
   "id": "1b68269a",
   "metadata": {},
   "outputs": [],
   "source": [
    "myarray = np.array(mylist)"
   ]
  },
  {
   "cell_type": "code",
   "execution_count": null,
   "id": "db4388c0",
   "metadata": {},
   "outputs": [],
   "source": [
    "myarray"
   ]
  },
  {
   "cell_type": "code",
   "execution_count": null,
   "id": "e76b1e26",
   "metadata": {},
   "outputs": [],
   "source": [
    "type(myarray)"
   ]
  },
  {
   "cell_type": "code",
   "execution_count": null,
   "id": "ab778fa9",
   "metadata": {},
   "outputs": [],
   "source": [
    "myMatrix = [[1,2,3],[3,4,5],[6,7,8]]"
   ]
  },
  {
   "cell_type": "code",
   "execution_count": null,
   "id": "c2b88cc1",
   "metadata": {},
   "outputs": [],
   "source": [
    "np.array(myMatrix)"
   ]
  },
  {
   "cell_type": "code",
   "execution_count": null,
   "id": "1c9ed2cc",
   "metadata": {},
   "outputs": [],
   "source": [
    "np.arange(0,101,2)"
   ]
  },
  {
   "cell_type": "code",
   "execution_count": null,
   "id": "04ef1388",
   "metadata": {},
   "outputs": [],
   "source": [
    " np.arange(0,101,20)"
   ]
  },
  {
   "cell_type": "code",
   "execution_count": null,
   "id": "522e73a4",
   "metadata": {},
   "outputs": [],
   "source": [
    "np.zeros((3,4))"
   ]
  },
  {
   "cell_type": "code",
   "execution_count": null,
   "id": "8dfaa64f",
   "metadata": {},
   "outputs": [],
   "source": [
    "np.linspace(0,6,7)"
   ]
  },
  {
   "cell_type": "code",
   "execution_count": null,
   "id": "04356240",
   "metadata": {},
   "outputs": [],
   "source": [
    "np.linspace(0,6,4)"
   ]
  },
  {
   "cell_type": "code",
   "execution_count": null,
   "id": "af667f4f",
   "metadata": {},
   "outputs": [],
   "source": [
    "np.eye(4)"
   ]
  },
  {
   "cell_type": "code",
   "execution_count": null,
   "id": "7c4428f5",
   "metadata": {},
   "outputs": [],
   "source": [
    "\n",
    "np.random.rand(4,5)"
   ]
  },
  {
   "cell_type": "code",
   "execution_count": null,
   "id": "3e5583ce",
   "metadata": {},
   "outputs": [],
   "source": [
    "np.random.randn(5)"
   ]
  },
  {
   "cell_type": "code",
   "execution_count": null,
   "id": "92a8ed41",
   "metadata": {},
   "outputs": [],
   "source": [
    "np.random.randn(5,4)"
   ]
  },
  {
   "cell_type": "code",
   "execution_count": null,
   "id": "0c27e571",
   "metadata": {},
   "outputs": [],
   "source": [
    "np.random.randint(0,101,5)"
   ]
  },
  {
   "cell_type": "code",
   "execution_count": null,
   "id": "d42a4db4",
   "metadata": {},
   "outputs": [],
   "source": [
    "np.random.randint(0,101,(4,3))"
   ]
  },
  {
   "cell_type": "code",
   "execution_count": null,
   "id": "236c79ce",
   "metadata": {},
   "outputs": [],
   "source": [
    "np.random.seed(42)\n",
    "np.random.rand(5)"
   ]
  },
  {
   "cell_type": "code",
   "execution_count": null,
   "id": "fdeb1493",
   "metadata": {},
   "outputs": [],
   "source": [
    "arr = np.arange(0,25)"
   ]
  },
  {
   "cell_type": "code",
   "execution_count": null,
   "id": "b895440e",
   "metadata": {},
   "outputs": [],
   "source": [
    "arr.reshape(5,5)"
   ]
  },
  {
   "cell_type": "code",
   "execution_count": null,
   "id": "8756bed5",
   "metadata": {},
   "outputs": [],
   "source": [
    "ranarr = np.random.randint(0,100,12)"
   ]
  },
  {
   "cell_type": "code",
   "execution_count": null,
   "id": "411e3b09",
   "metadata": {},
   "outputs": [],
   "source": [
    "ranarr.max()"
   ]
  },
  {
   "cell_type": "code",
   "execution_count": null,
   "id": "758d2771",
   "metadata": {},
   "outputs": [],
   "source": [
    "ranarr"
   ]
  },
  {
   "cell_type": "code",
   "execution_count": null,
   "id": "0983b2ce",
   "metadata": {},
   "outputs": [],
   "source": [
    "ranarr.min()"
   ]
  },
  {
   "cell_type": "code",
   "execution_count": null,
   "id": "d33a2350",
   "metadata": {},
   "outputs": [],
   "source": [
    "ranarr.argmax()"
   ]
  },
  {
   "cell_type": "code",
   "execution_count": null,
   "id": "e849f5d3",
   "metadata": {},
   "outputs": [],
   "source": [
    "\n",
    "ranarr.dtype"
   ]
  },
  {
   "cell_type": "code",
   "execution_count": null,
   "id": "41125dce",
   "metadata": {},
   "outputs": [],
   "source": [
    "ranarr.shape"
   ]
  },
  {
   "cell_type": "code",
   "execution_count": null,
   "id": "07e061a4",
   "metadata": {},
   "outputs": [],
   "source": [
    "ranarr = ranarr.reshape(3,4)"
   ]
  },
  {
   "cell_type": "code",
   "execution_count": null,
   "id": "04862f21",
   "metadata": {},
   "outputs": [],
   "source": [
    "ranarr.shape"
   ]
  },
  {
   "cell_type": "code",
   "execution_count": null,
   "id": "3294d7f1",
   "metadata": {},
   "outputs": [],
   "source": [
    "myarray = np.linspace(0,10,101)\n",
    "print(myarray)"
   ]
  },
  {
   "cell_type": "code",
   "execution_count": null,
   "id": "cc429558",
   "metadata": {},
   "outputs": [],
   "source": [
    "arr = np.arange(0,11)"
   ]
  },
  {
   "cell_type": "code",
   "execution_count": null,
   "id": "69b62c04",
   "metadata": {},
   "outputs": [],
   "source": [
    "arr"
   ]
  },
  {
   "cell_type": "code",
   "execution_count": null,
   "id": "d5133ab5",
   "metadata": {},
   "outputs": [],
   "source": [
    "arr[8]"
   ]
  },
  {
   "cell_type": "code",
   "execution_count": null,
   "id": "e25de015",
   "metadata": {},
   "outputs": [],
   "source": [
    "arr[1:8]"
   ]
  },
  {
   "cell_type": "code",
   "execution_count": null,
   "id": "c58a2cc6",
   "metadata": {},
   "outputs": [],
   "source": [
    "arr[0:5]"
   ]
  },
  {
   "cell_type": "code",
   "execution_count": null,
   "id": "2a506123",
   "metadata": {},
   "outputs": [],
   "source": [
    "arr[:5]"
   ]
  },
  {
   "cell_type": "code",
   "execution_count": null,
   "id": "3be1e7f3",
   "metadata": {},
   "outputs": [],
   "source": [
    "arr[5:]"
   ]
  },
  {
   "cell_type": "code",
   "execution_count": null,
   "id": "0d8a61a1",
   "metadata": {},
   "outputs": [],
   "source": [
    "!jt -l"
   ]
  },
  {
   "cell_type": "code",
   "execution_count": null,
   "id": "aafd315e",
   "metadata": {},
   "outputs": [],
   "source": [
    "!jt -t monokai -N -T -kl"
   ]
  },
  {
   "cell_type": "code",
   "execution_count": null,
   "id": "b95b83b8",
   "metadata": {},
   "outputs": [],
   "source": [
    "arr[0:5] = 100"
   ]
  },
  {
   "cell_type": "code",
   "execution_count": null,
   "id": "286da978",
   "metadata": {},
   "outputs": [],
   "source": [
    "arr"
   ]
  },
  {
   "cell_type": "code",
   "execution_count": null,
   "id": "a4432aa7",
   "metadata": {},
   "outputs": [],
   "source": [
    "arr = np.arange(0,11)"
   ]
  },
  {
   "cell_type": "code",
   "execution_count": null,
   "id": "3874d894",
   "metadata": {},
   "outputs": [],
   "source": [
    "arr"
   ]
  },
  {
   "cell_type": "code",
   "execution_count": null,
   "id": "995a4774",
   "metadata": {},
   "outputs": [],
   "source": [
    "slice_of_arr = arr[0:5]"
   ]
  },
  {
   "cell_type": "code",
   "execution_count": null,
   "id": "b842b9f2",
   "metadata": {},
   "outputs": [],
   "source": [
    "slice_of_arr"
   ]
  },
  {
   "cell_type": "code",
   "execution_count": null,
   "id": "47c71cfb",
   "metadata": {},
   "outputs": [],
   "source": [
    "slice_of_arr[:] = 99"
   ]
  },
  {
   "cell_type": "code",
   "execution_count": null,
   "id": "e9510d94",
   "metadata": {},
   "outputs": [],
   "source": [
    "slice_of_arr"
   ]
  },
  {
   "cell_type": "code",
   "execution_count": null,
   "id": "c96ddfee",
   "metadata": {},
   "outputs": [],
   "source": [
    "arr"
   ]
  },
  {
   "cell_type": "code",
   "execution_count": null,
   "id": "9aa27317",
   "metadata": {},
   "outputs": [],
   "source": [
    "!jt -t chesterish -cellw 90% -lineh 170"
   ]
  },
  {
   "cell_type": "code",
   "execution_count": null,
   "id": "882cc6e3",
   "metadata": {},
   "outputs": [],
   "source": [
    "!jt -t onedork -fs 95 -altp -tfs 11 -nfs 115 -cellw 88% -T"
   ]
  },
  {
   "cell_type": "code",
   "execution_count": null,
   "id": "c6ac8ccf",
   "metadata": {},
   "outputs": [],
   "source": [
    "arr_copy = arr.copy()"
   ]
  },
  {
   "cell_type": "code",
   "execution_count": null,
   "id": "b091af57",
   "metadata": {},
   "outputs": [],
   "source": [
    "arr_copy[:] = 100"
   ]
  },
  {
   "cell_type": "code",
   "execution_count": null,
   "id": "7fe5717a",
   "metadata": {},
   "outputs": [],
   "source": [
    "arr_copy"
   ]
  },
  {
   "cell_type": "code",
   "execution_count": null,
   "id": "25d8dc17",
   "metadata": {},
   "outputs": [],
   "source": [
    "arr"
   ]
  },
  {
   "cell_type": "code",
   "execution_count": null,
   "id": "5dc8cb77",
   "metadata": {},
   "outputs": [],
   "source": [
    "array_2d = np.array([[5,5,6],[4,7,8],[9,0,7]])\n"
   ]
  },
  {
   "cell_type": "code",
   "execution_count": null,
   "id": "11f58c2c",
   "metadata": {},
   "outputs": [],
   "source": [
    "arr_2d.shape"
   ]
  },
  {
   "cell_type": "code",
   "execution_count": null,
   "id": "3db9bdc3",
   "metadata": {},
   "outputs": [],
   "source": [
    "arr_2d"
   ]
  },
  {
   "cell_type": "code",
   "execution_count": null,
   "id": "347c0e81",
   "metadata": {},
   "outputs": [],
   "source": [
    "arr_2d[1,1]"
   ]
  },
  {
   "cell_type": "code",
   "execution_count": null,
   "id": "a230e6b6",
   "metadata": {},
   "outputs": [],
   "source": [
    "arr_2d[1]"
   ]
  },
  {
   "cell_type": "code",
   "execution_count": null,
   "id": "619724c7",
   "metadata": {},
   "outputs": [],
   "source": [
    "arr_2d[1:,1:]"
   ]
  },
  {
   "cell_type": "code",
   "execution_count": 3,
   "id": "f8c9ff77",
   "metadata": {},
   "outputs": [],
   "source": [
    "array = np.arange(1,11)"
   ]
  },
  {
   "cell_type": "code",
   "execution_count": 4,
   "id": "0ad94ee7",
   "metadata": {},
   "outputs": [
    {
     "data": {
      "text/plain": [
       "array([ 1,  2,  3,  4,  5,  6,  7,  8,  9, 10])"
      ]
     },
     "execution_count": 4,
     "metadata": {},
     "output_type": "execute_result"
    }
   ],
   "source": [
    "array"
   ]
  },
  {
   "cell_type": "code",
   "execution_count": 5,
   "id": "ca43d714",
   "metadata": {},
   "outputs": [
    {
     "data": {
      "text/plain": [
       "array([False, False, False, False,  True,  True,  True,  True,  True,\n",
       "        True])"
      ]
     },
     "execution_count": 5,
     "metadata": {},
     "output_type": "execute_result"
    }
   ],
   "source": [
    "array > 4"
   ]
  },
  {
   "cell_type": "code",
   "execution_count": 7,
   "id": "9f80beeb",
   "metadata": {},
   "outputs": [],
   "source": [
    "bool_arr = array > 4"
   ]
  },
  {
   "cell_type": "code",
   "execution_count": 8,
   "id": "78baaaa9",
   "metadata": {},
   "outputs": [
    {
     "data": {
      "text/plain": [
       "array([ 5,  6,  7,  8,  9, 10])"
      ]
     },
     "execution_count": 8,
     "metadata": {},
     "output_type": "execute_result"
    }
   ],
   "source": [
    "array[bool_arr]"
   ]
  },
  {
   "cell_type": "code",
   "execution_count": 9,
   "id": "b39edffd",
   "metadata": {},
   "outputs": [
    {
     "data": {
      "text/plain": [
       "array([ 5,  6,  7,  8,  9, 10])"
      ]
     },
     "execution_count": 9,
     "metadata": {},
     "output_type": "execute_result"
    }
   ],
   "source": [
    "array[array>4]"
   ]
  },
  {
   "cell_type": "code",
   "execution_count": null,
   "id": "b54b2e08",
   "metadata": {},
   "outputs": [],
   "source": []
  }
 ],
 "metadata": {
  "kernelspec": {
   "display_name": "Python 3 (ipykernel)",
   "language": "python",
   "name": "python3"
  },
  "language_info": {
   "codemirror_mode": {
    "name": "ipython",
    "version": 3
   },
   "file_extension": ".py",
   "mimetype": "text/x-python",
   "name": "python",
   "nbconvert_exporter": "python",
   "pygments_lexer": "ipython3",
   "version": "3.9.12"
  }
 },
 "nbformat": 4,
 "nbformat_minor": 5
}
